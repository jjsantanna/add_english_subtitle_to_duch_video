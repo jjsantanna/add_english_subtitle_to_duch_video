{
 "cells": [
  {
   "cell_type": "code",
   "execution_count": null,
   "id": "653c3000-d03f-4227-be8f-9848116c89fd",
   "metadata": {},
   "outputs": [],
   "source": [
    "AZURE_OPENAI_MODEL = \"\" #deployment name\n",
    "AZURE_OPENAI_ENDPOINT = \"\"\n",
    "AZURE_OPENAI_KEY = \"\"\n",
    "AZURE_OPENAI_VERSION = \"\"\n",
    "\n",
    "# https://azure.microsoft.com/en-us/pricing/details/cognitive-services/openai-service/ #FOR FRANCE CENTRAL\n",
    "AZURE_OPENAI_COST_IN = 0.010 # Euros[€] per 1000 tokens\n",
    "AZURE_OPENAI_COST_OUT = 0.028 # Euros[€] per 1000 tokens"
   ]
  },
  {
   "attachments": {},
   "cell_type": "markdown",
   "id": "a32ebe48-6cf8-48ec-a303-470ad7f7d11e",
   "metadata": {},
   "source": [
    "# Transcribing, Translating, and Adding English Subtitle to a Dutch Video\n",
    "\n",
    "1. Video format check/conversion (.webm to .mp4) \"what the fuck is .wedm?\" (library ffmpeg)\n",
    "2. Video-to-audio (.webm to .mp3) (library moviepy)\n",
    "3. Audio-to-text (.str output) (library whisper)\n",
    "4. Text translation (.str output) (Azure OpenAI gpt4)\n",
    "5. MANUALLY checking the result by playing it using VLC (and manually fixing mistakes)\n",
    "6. Improving the subtitle text style (converting from .srt to .ass) (library pysubs2)\n",
    "7. Adding the translated subtitle to the video (library ffmpeg)\n",
    "\n",
    "# Logging function"
   ]
  },
  {
   "cell_type": "code",
   "execution_count": null,
   "id": "49ca200b-6d87-4c1f-9e64-3b291ae935da",
   "metadata": {},
   "outputs": [],
   "source": [
    "import os\n",
    "import time"
   ]
  },
  {
   "cell_type": "code",
   "execution_count": null,
   "id": "46b06112-71d0-43cc-9e99-09ec3630ff66",
   "metadata": {},
   "outputs": [],
   "source": [
    "def log_and_time(func):\n",
    "    def wrapper(*args, **kwargs):\n",
    "        start_time = time.time()\n",
    "        print(f\"Starting '{func.__name__}'...\")\n",
    "        result = func(*args, **kwargs)\n",
    "        end_time = time.time()\n",
    "        print(f\"Finished '{func.__name__}' in {end_time - start_time:.2f} seconds.\")\n",
    "        return result\n",
    "    return wrapper"
   ]
  },
  {
   "cell_type": "markdown",
   "id": "9540bab7-4aa8-4406-a604-a92a660f6212",
   "metadata": {},
   "source": [
    "# 1. Get video duration"
   ]
  },
  {
   "cell_type": "code",
   "execution_count": null,
   "id": "9a4e1558-6f4e-4fc4-9f04-b43ee4c050a2",
   "metadata": {},
   "outputs": [],
   "source": [
    "import ffmpeg"
   ]
  },
  {
   "cell_type": "code",
   "execution_count": null,
   "id": "060ebdc8-094b-4a2d-aa24-2486dcaea85f",
   "metadata": {},
   "outputs": [],
   "source": [
    "def get_video_duration(video_file):\n",
    "    try:\n",
    "        probe = ffmpeg.probe(video_file)\n",
    "        duration_seconds = float(probe['format']['duration'])\n",
    "        duration_minutes = duration_seconds / 60\n",
    "        print(f\"The input video has {duration_seconds:.1f} seconds ({duration_seconds/60:.1f} minutes).\\nWe expect the process to be finished in less than {duration_seconds * 2.5:.1f} seconds ({duration_seconds * 2.5/60:.1f} minutes)!\\nBE PATIENT!!!!\\n\")\n",
    "    except ffmpeg.Error as e:\n",
    "        print(f\"An error occurred: {e.stderr.decode('utf8')}\")\n",
    "        return None"
   ]
  },
  {
   "cell_type": "code",
   "execution_count": null,
   "id": "0e76ead7-e84f-4770-abe7-adbf5790ea78",
   "metadata": {},
   "outputs": [],
   "source": [
    "# input_video = ''\n",
    "# get_video_duration(input_video)"
   ]
  },
  {
   "cell_type": "markdown",
   "id": "291e2819-292c-4638-9624-75e83dfcf66c",
   "metadata": {},
   "source": [
    "# 2. Extract audio (.mp3) from video"
   ]
  },
  {
   "cell_type": "code",
   "execution_count": null,
   "id": "48dc44df-9bd0-4bc1-bf24-9ce2334ecb62",
   "metadata": {},
   "outputs": [],
   "source": [
    "import os\n",
    "from moviepy.editor import VideoFileClip"
   ]
  },
  {
   "cell_type": "code",
   "execution_count": null,
   "id": "bbf900d2-5ae3-42d0-8cd3-7d40f077b341",
   "metadata": {},
   "outputs": [],
   "source": [
    "@log_and_time\n",
    "def extract_audio(input_file):\n",
    "    try:\n",
    "        audio_path = os.path.splitext(input_file)[0] + '.mp3'\n",
    "        video = VideoFileClip(input_file)\n",
    "        video.audio.write_audiofile(audio_path, verbose=False, logger=None)\n",
    "        return audio_path\n",
    "    except Exception as e:\n",
    "        print(f\"An error occurred during audio extraction: {str(e)}\")\n",
    "        return None"
   ]
  },
  {
   "cell_type": "code",
   "execution_count": null,
   "id": "046a3003-f48b-48db-b559-c0b826597c52",
   "metadata": {},
   "outputs": [],
   "source": [
    "# input_file = ''\n",
    "# audio_path = extract_audio(input_file)\n",
    "# audio_path"
   ]
  },
  {
   "cell_type": "markdown",
   "id": "67518557-08d7-4658-97a0-62d7a28cace0",
   "metadata": {},
   "source": [
    "# 3. speech-to-text to .str"
   ]
  },
  {
   "cell_type": "code",
   "execution_count": null,
   "id": "2db3228d-18da-4541-a9ce-5048faefddb7",
   "metadata": {},
   "outputs": [],
   "source": [
    "# !pip install git+https://github.com/openai/whisper.git\n",
    "import whisper\n",
    "import os"
   ]
  },
  {
   "cell_type": "code",
   "execution_count": null,
   "id": "af216d21-7e3e-481e-bc0c-e64ba36ed074",
   "metadata": {},
   "outputs": [],
   "source": [
    "def format_timestamp(seconds):\n",
    "    ms = int((seconds % 1) * 1000)\n",
    "    seconds = int(seconds)\n",
    "    hrs = seconds // 3600\n",
    "    mins = (seconds % 3600) // 60\n",
    "    secs = seconds % 60\n",
    "    return f\"{hrs:02}:{mins:02}:{secs:02},{ms:03}\"\n",
    "\n",
    "@log_and_time   \n",
    "def transcribe_dutch_audio(audio_path):\n",
    "    try:\n",
    "        model = whisper.load_model(\"base\")\n",
    "        result = model.transcribe(audio_path, language='nl')\n",
    "        \n",
    "        # Generate the transcription file path\n",
    "        transcription_path = os.path.splitext(audio_path)[0] + '_NL.txt'\n",
    "        \n",
    "        # Save the transcription to the file with segments\n",
    "        with open(transcription_path, 'w', encoding='utf-8') as f:\n",
    "            for segment in result['segments']:\n",
    "                start = format_timestamp(segment['start'])\n",
    "                end = format_timestamp(segment['end'])\n",
    "                text = segment['text'].strip()\n",
    "                f.write(f\"{start} --> {end}\\n{text}\\n\\n\")\n",
    "        \n",
    "        # Return the transcription file path\n",
    "        return transcription_path\n",
    "    except Exception as e:\n",
    "        print(f\"An error occurred during transcription: {str(e)}\")\n",
    "        return None"
   ]
  },
  {
   "cell_type": "code",
   "execution_count": null,
   "id": "c9ad096a-6ac4-417d-8dd8-4b50a8e7418c",
   "metadata": {},
   "outputs": [],
   "source": [
    "# audio_path = ''\n",
    "# transcription_path = transcribe_dutch_audio(audio_path)\n",
    "# transcription_path"
   ]
  },
  {
   "cell_type": "markdown",
   "id": "d304ba6d-8eb7-4ebb-af53-fde060205d46",
   "metadata": {},
   "source": [
    "# 4. Transcription to .str"
   ]
  },
  {
   "cell_type": "code",
   "execution_count": null,
   "id": "4e38c6a4-fc32-459f-a1d9-af28d3700418",
   "metadata": {},
   "outputs": [],
   "source": [
    "@log_and_time \n",
    "def transcription_to_srt(transcription_path):\n",
    "    try:\n",
    "        str_path = os.path.splitext(transcription_path)[0] + '.srt'\n",
    "        \n",
    "        with open(transcription_path, 'r', encoding='utf-8') as f:\n",
    "            segments = f.read().strip().split('\\n\\n')\n",
    "        \n",
    "        with open(str_path, \"w\", encoding=\"utf-8\") as srt_file:\n",
    "            for i, segment in enumerate(segments):\n",
    "                lines = segment.split('\\n')\n",
    "                if len(lines) >= 2:\n",
    "                    times, dutch_text = lines[0], lines[1]\n",
    "                    start_time, end_time = times.split(' --> ')\n",
    "                    \n",
    "                    srt_file.write(f\"{i + 1}\\n\")\n",
    "                    srt_file.write(f\"{start_time} --> {end_time}\\n\")\n",
    "                    srt_file.write(f\"{dutch_text}\\n\\n\")\n",
    "        return str_path\n",
    "    except Exception as e:\n",
    "        print(f\"An error occurred during SRT file creation: {str(e)}\")\n",
    "        return None"
   ]
  },
  {
   "cell_type": "code",
   "execution_count": null,
   "id": "b54a60c1-4966-429e-8b97-9b67ef832286",
   "metadata": {},
   "outputs": [],
   "source": [
    "# transcription_path = '' #.txt\n",
    "# str_path = transcription_to_srt(transcription_path)\n",
    "# str_path"
   ]
  },
  {
   "cell_type": "markdown",
   "id": "835b0f2b-cac0-4d23-b1d9-849e58d45872",
   "metadata": {},
   "source": [
    "# 5. .srt from Dutch to English translation"
   ]
  },
  {
   "cell_type": "code",
   "execution_count": null,
   "id": "6c76b8f2-c2ce-448d-b6e4-2798beafb3a8",
   "metadata": {},
   "outputs": [],
   "source": [
    "# !pip install openai\n",
    "from openai import AzureOpenAI"
   ]
  },
  {
   "cell_type": "code",
   "execution_count": null,
   "id": "c0517039-de52-4422-9e6d-9e7ed0f29e06",
   "metadata": {},
   "outputs": [],
   "source": [
    "@log_and_time\n",
    "def azureopenai_translate_dutch_file(AZURE_OPENAI_ENDPOINT, AZURE_OPENAI_KEY, AZURE_OPENAI_VERSION, AZURE_OPENAI_MODEL, str_path):\n",
    "    try:\n",
    "        client = AzureOpenAI(azure_endpoint=AZURE_OPENAI_ENDPOINT, \n",
    "                             api_key=AZURE_OPENAI_KEY, \n",
    "                             api_version=AZURE_OPENAI_VERSION)\n",
    "        \n",
    "        with open(str_path, 'r', encoding='utf-8') as file:\n",
    "            file_content = file.read()\n",
    "\n",
    "        system_prompt = \"Translate the following Dutch subtitles to English:\"\n",
    "       \n",
    "        response = client.chat.completions.create(\n",
    "            model=AZURE_OPENAI_MODEL,\n",
    "            messages=[{\"role\": \"system\", \"content\": system_prompt}, \n",
    "                      {\"role\": \"user\", \"content\": file_content}]\n",
    "        )\n",
    "        \n",
    "        translated_content = response.choices[0].message.content\n",
    "   \n",
    "        # Calculate and print the cost if the cost variables are set      \n",
    "        if AZURE_OPENAI_COST_IN is not None and AZURE_OPENAI_COST_OUT is not None:\n",
    "            input_tokens = response.usage.prompt_tokens\n",
    "            output_tokens = response.usage.completion_tokens\n",
    "            total_cost = (input_tokens * AZURE_OPENAI_COST_IN/1000) + (output_tokens * AZURE_OPENAI_COST_OUT/1000)\n",
    "            print(f\" - Cost of translation: €{total_cost:.6f} (input tokens: {input_tokens}, output tokens: {output_tokens})\")\n",
    "        else:\n",
    "            print(\" - Costs not calculated!\")\n",
    "\n",
    "        english_str_path = os.path.splitext(str_path)[0] + '_EN.srt'\n",
    "        with open(english_str_path, 'w', encoding='utf-8') as file:\n",
    "            file.write(translated_content)\n",
    "        return english_str_path\n",
    "    except Exception as e:\n",
    "        print(f\"An error occurred during translation: {str(e)}\")\n",
    "        return None"
   ]
  },
  {
   "cell_type": "code",
   "execution_count": null,
   "id": "213543df-d3d6-467d-a427-a4bac8305fc6",
   "metadata": {},
   "outputs": [],
   "source": [
    "# str_path = ''\n",
    "# english_str_path = azureopenai_translate_dutch_file(AZURE_OPENAI_ENDPOINT, AZURE_OPENAI_KEY, AZURE_OPENAI_VERSION, AZURE_OPENAI_MODEL, str_path)\n",
    "# english_str_path"
   ]
  },
  {
   "cell_type": "markdown",
   "id": "f762d125-4764-41c9-982b-ae728bc4e507",
   "metadata": {},
   "source": [
    "## 6. .srt to .ass"
   ]
  },
  {
   "cell_type": "code",
   "execution_count": null,
   "id": "a679146c-01f9-4737-b5e4-530120573f53",
   "metadata": {},
   "outputs": [],
   "source": [
    "# !pip install pysubs2\n",
    "import pysubs2"
   ]
  },
  {
   "cell_type": "code",
   "execution_count": null,
   "id": "187d034d-5a40-4175-ad60-5c147be658c3",
   "metadata": {},
   "outputs": [],
   "source": [
    "# Helper function to convert hex color to RGB\n",
    "def hex_to_rgb(hex_color):\n",
    "    hex_color = hex_color.lstrip('&H').lstrip('#')\n",
    "    return tuple(int(hex_color[i:i+2], 16) for i in (0, 2, 4))\n",
    "\n",
    "@log_and_time\n",
    "def srt_to_ass(srt_path):\n",
    "    font_name=\"Roboto\"\n",
    "    font_size=24\n",
    "    \n",
    "    primary_color=\"&H00FFFFFF\"\n",
    "    outline_color=\"&H00000000\" \n",
    "    back_color=\"&H64000000\"\n",
    "    \n",
    "    try:\n",
    "        subs = pysubs2.load(srt_path, encoding=\"utf-8\")\n",
    "        style = pysubs2.SSAStyle()\n",
    "        style.fontname = font_name\n",
    "        style.fontsize = font_size\n",
    "        style.primarycolor = pysubs2.Color(*hex_to_rgb(primary_color))\n",
    "        style.outlinecolor = pysubs2.Color(*hex_to_rgb(outline_color))\n",
    "        style.backcolor = pysubs2.Color(*hex_to_rgb(back_color))\n",
    "        style.bold = -1\n",
    "        style.shadow = 2\n",
    "        style.outline = 1\n",
    "        style.alignment = pysubs2.Alignment.BOTTOM_CENTER\n",
    "        style.marginl = 10\n",
    "        style.marginr = 10\n",
    "        style.marginv = 10\n",
    "        subs.styles[\"Default\"] = style\n",
    "\n",
    "        ass_path = os.path.splitext(srt_path)[0] + '.ass' \n",
    "        subs.save(ass_path)\n",
    "        return ass_path\n",
    "        \n",
    "    except Exception as e:\n",
    "        print(f\"An error occurred during SRT to ASS conversion: {str(e)}\")\n",
    "        return None"
   ]
  },
  {
   "cell_type": "code",
   "execution_count": null,
   "id": "885f9d31-ff7d-4d1a-88a9-cfd99036897d",
   "metadata": {},
   "outputs": [],
   "source": [
    "# srt_path = ''\n",
    "# ass_path = srt_to_ass(srt_path)\n",
    "# ass_path"
   ]
  },
  {
   "cell_type": "markdown",
   "id": "3da60f4f-962c-452d-bf2f-6f835c7327c0",
   "metadata": {},
   "source": [
    "# 7. Convert original video to .mp4 (if needed)"
   ]
  },
  {
   "cell_type": "code",
   "execution_count": null,
   "id": "1f4658d6-8f87-4383-9244-52cc9a278e6e",
   "metadata": {},
   "outputs": [],
   "source": [
    "import os\n",
    "import ffmpeg"
   ]
  },
  {
   "cell_type": "code",
   "execution_count": null,
   "id": "d9e10532-9c0a-4e54-9fc8-c8e6378a7b7e",
   "metadata": {},
   "outputs": [],
   "source": [
    "@log_and_time\n",
    "def convert_to_mp4(input_file):\n",
    "    try:\n",
    "        if input_file.lower().endswith('.mp4'):\n",
    "            return input_file\n",
    "        video_mp4 = os.path.splitext(input_file)[0] + '.mp4'\n",
    "        ffmpeg.input(input_file).output(video_mp4, vcodec='libx264', acodec='aac').run(overwrite_output=True, quiet=True)\n",
    "        return video_mp4\n",
    "    except ffmpeg.Error as e:\n",
    "        print(f\"An error occurred during conversion: {e.stderr.decode('utf8')}\")\n",
    "        return None\n"
   ]
  },
  {
   "cell_type": "code",
   "execution_count": null,
   "id": "302b020c-cc79-4821-90d3-59218089badf",
   "metadata": {},
   "outputs": [],
   "source": [
    "# input_file = ''\n",
    "# video_mp4 = convert_to_mp4(input_file)\n",
    "# video_mp4"
   ]
  },
  {
   "cell_type": "markdown",
   "id": "a256297e-1e45-4d26-bc77-3b5a7e468a9c",
   "metadata": {},
   "source": [
    "# 8. Add subtitle to video"
   ]
  },
  {
   "cell_type": "code",
   "execution_count": null,
   "id": "2878808f-751c-4e6b-a914-a7e9359506ea",
   "metadata": {},
   "outputs": [],
   "source": [
    "import ffmpeg\n",
    "import os\n",
    "import re"
   ]
  },
  {
   "cell_type": "code",
   "execution_count": null,
   "id": "8f0af872-d651-44a1-8d3f-f150398ad025",
   "metadata": {},
   "outputs": [],
   "source": [
    "def generate_sequential_output_path(video_path):\n",
    "    base_dir, base_name = os.path.split(video_path)\n",
    "    if not base_dir:\n",
    "        base_dir = '.'  # Use current directory if no directory is provided\n",
    "    name, ext = os.path.splitext(base_name)\n",
    "    base_pattern = re.sub(r'(\\d+)$', '', name)\n",
    "    \n",
    "    try:\n",
    "        existing_files = [f for f in os.listdir(base_dir) if f.startswith(base_pattern) and f.endswith(ext)]\n",
    "    except FileNotFoundError:\n",
    "        print(f\"The directory {base_dir} does not exist.\")\n",
    "        return None\n",
    "\n",
    "    highest_number = 1\n",
    "    for file in existing_files:\n",
    "        match = re.search(r'(\\d+)(?=\\.[^.]+$)', file)\n",
    "        if match:\n",
    "            number = int(match.group(1))\n",
    "            if number > highest_number:\n",
    "                highest_number = number\n",
    "    \n",
    "    new_number = highest_number + 1\n",
    "    new_base_name = f\"{base_pattern}{new_number}{ext}\"\n",
    "    return os.path.join(base_dir, new_base_name)\n",
    "\n",
    "\n",
    "@log_and_time\n",
    "def add_subtitle(video_path, subtitle_path):\n",
    "    try:\n",
    "        # Generate the output path based on the video path\n",
    "        output_path = generate_sequential_output_path(video_path)\n",
    "        if output_path is None:\n",
    "            return None\n",
    "        \n",
    "        # Add subtitles to the video using ffmpeg\n",
    "        ffmpeg.input(video_path).output(output_path, vf=f\"subtitles={subtitle_path}\").run(overwrite_output=True, quiet=True)\n",
    "        return output_path\n",
    "    except Exception as e:\n",
    "        print(f\"An error occurred during adding subtitles: {str(e)}\")\n",
    "        return None"
   ]
  },
  {
   "cell_type": "code",
   "execution_count": null,
   "id": "affce6e0-757d-4ed3-b011-0a6ce0b34099",
   "metadata": {},
   "outputs": [],
   "source": [
    "# video_path = ''\n",
    "# ass_path = ''\n",
    "\n",
    "# final_video = add_subtitle(video_path, ass_path)\n",
    "# final_video"
   ]
  },
  {
   "cell_type": "markdown",
   "id": "4ae688bf-0890-4127-aacf-a6776bfa7d5a",
   "metadata": {},
   "source": [
    "# 9. Clean paths"
   ]
  },
  {
   "cell_type": "code",
   "execution_count": null,
   "id": "6bd8a517-997d-4bf2-8d0e-73790a1d4c9d",
   "metadata": {},
   "outputs": [],
   "source": [
    "def clean_up(paths):\n",
    "    for path in paths:\n",
    "        try:\n",
    "            os.remove(path)\n",
    "        except OSError as e:\n",
    "            print(f\"Error deleting file {path}: {e}\")"
   ]
  },
  {
   "cell_type": "code",
   "execution_count": null,
   "id": "532f79d9-a236-46c5-9252-11c99e50163c",
   "metadata": {},
   "outputs": [],
   "source": [
    "# clean_up([audio_path, transcription_path, srt_path, ass_path])"
   ]
  },
  {
   "cell_type": "markdown",
   "id": "a1411ba6-9d10-4999-b8ed-12a0de4665f0",
   "metadata": {},
   "source": [
    "# CALLING EVERYTHING!!!!"
   ]
  },
  {
   "cell_type": "code",
   "execution_count": null,
   "id": "30ba1615-0ed0-419a-b342-7a6fc77e4aa8",
   "metadata": {},
   "outputs": [],
   "source": [
    "# input_video = ''\n",
    "\n",
    "# #1 get video duration\n",
    "# get_video_duration(input_video)\n",
    "\n",
    "# #2 extract audio\n",
    "# audio_path = extract_audio(input_video)\n",
    "\n",
    "# #3 Transcript the audio (in Dutch)\n",
    "# transcription_path = transcribe_dutch_audio(audio_path)\n",
    "\n",
    "# #4 Making the str from the transcription\n",
    "# str_path = transcription_to_srt(transcription_path)\n",
    "\n",
    "# #5 Translating the Dutch .str to English using Azure OpenAI\n",
    "# english_str_path = azureopenai_translate_dutch_file(AZURE_OPENAI_ENDPOINT, AZURE_OPENAI_KEY, AZURE_OPENAI_VERSION, AZURE_OPENAI_MODEL, str_path)\n",
    "\n",
    "# #6 Making the .ass file\n",
    "# ass_path = srt_to_ass(english_str_path)\n",
    "\n",
    "# #7 making sure the original video is .\n",
    "# video_mp4 = convert_to_mp4(input_video)\n",
    "\n",
    "# #8 Adding subtitle (.ass) to a video\n",
    "# final_video = add_subtitle(video_mp4, ass_path)\n",
    "\n",
    "# #9 Clean-up folder\n",
    "# os.remove(audio_path)\n",
    "# os.remove(transcription_path)\n",
    "# os.remove(str_path)\n",
    "# os.remove(ass_path)\n",
    "\n"
   ]
  },
  {
   "cell_type": "code",
   "execution_count": null,
   "id": "dc8d7a3b-63c2-43cd-a7b9-aa39b9bd16f4",
   "metadata": {},
   "outputs": [],
   "source": [
    "import tkinter as tk\n",
    "from tkinter import filedialog, scrolledtext\n",
    "import sys\n",
    "import threading\n",
    "import time\n",
    "import os"
   ]
  },
  {
   "cell_type": "code",
   "execution_count": null,
   "id": "94fa841a-29f4-4b8f-9f4d-87421ddd694a",
   "metadata": {},
   "outputs": [],
   "source": [
    "stop_processing = threading.Event()\n",
    "\n",
    "def run_process(video_path):\n",
    "    stop_processing.clear()\n",
    "    go_button.config(state='disabled')\n",
    "    \n",
    "    # Step 1: Get video duration\n",
    "    get_video_duration(video_path)\n",
    "\n",
    "    # Step 2: Extract audio\n",
    "    audio_path = extract_audio(video_path)\n",
    "    if not audio_path:\n",
    "        return\n",
    "\n",
    "    # Step 3: Transcribe the audio (in Dutch)\n",
    "    transcription_path = transcribe_dutch_audio(audio_path)\n",
    "    if not transcription_path:\n",
    "        return\n",
    "\n",
    "    # Step 4: Convert transcription to SRT\n",
    "    srt_path = transcription_to_srt(transcription_path)\n",
    "\n",
    "    # Step 5: Translate the Dutch SRT to English using Azure OpenAI\n",
    "    english_srt_path = azureopenai_translate_dutch_file(AZURE_OPENAI_ENDPOINT, AZURE_OPENAI_KEY, AZURE_OPENAI_VERSION, AZURE_OPENAI_MODEL, srt_path)\n",
    "\n",
    "    # Step 6: Convert SRT to ASS\n",
    "    ass_path = srt_to_ass(english_srt_path)\n",
    "\n",
    "    # Step 7: Ensure the original video is in MP4 format\n",
    "    video_mp4 = convert_to_mp4(video_path)\n",
    "\n",
    "    # Step 8: Add subtitle (.ass) to the video\n",
    "    final_video = add_subtitle(video_mp4, ass_path)\n",
    "    if not final_video:\n",
    "        return\n",
    "\n",
    "    print(f\"\\nFinal video saved to: {final_video}\")\n",
    "    \n",
    "    # Step 9: Clean-up folder\n",
    "    clean_up([audio_path, transcription_path, srt_path, ass_path])\n",
    "\n",
    "    for _ in range(10):\n",
    "        if stop_processing.is_set():\n",
    "            break\n",
    "        time.sleep(1)\n",
    "\n",
    "    if open_video_var.get() and not stop_processing.is_set():\n",
    "        # Open the final video after processing if the checkbox is selected\n",
    "        os.system(f'open \"{final_video}\"')\n",
    "    \n",
    "    print(\"\\nProcess completed.\")\n",
    "    go_button.config(state='normal')\n",
    "    stop_processing.set()  # Ensure the timer stops"
   ]
  },
  {
   "cell_type": "code",
   "execution_count": null,
   "id": "79f60f47-30e0-4519-b07b-1216a16580c2",
   "metadata": {},
   "outputs": [],
   "source": [
    "class TextRedirector:\n",
    "    def __init__(self, widget, tag=\"stdout\"):\n",
    "        self.widget = widget\n",
    "        self.tag = tag\n",
    "\n",
    "    def write(self, str):\n",
    "        if self.widget.winfo_exists():\n",
    "            self.widget.configure(state='normal')\n",
    "            self.widget.insert(\"end\", str, (self.tag,))\n",
    "            self.widget.configure(state='disabled')\n",
    "            self.widget.see(\"end\")\n",
    "\n",
    "    def flush(self):\n",
    "        pass"
   ]
  },
  {
   "cell_type": "code",
   "execution_count": null,
   "id": "befdf40e-3734-460f-a4ba-62e052fccc1e",
   "metadata": {},
   "outputs": [],
   "source": [
    "def select_video():\n",
    "    global selected_video_path\n",
    "    selected_video_path = filedialog.askopenfilename(filetypes=[(\"Video files\", \"*.mp4 *.webm\")])\n",
    "    if selected_video_path:\n",
    "        selected_file_label.config(text=f\"Selected file: {os.path.basename(selected_video_path)}\")\n",
    "        go_button.pack()\n",
    "        stop_button.pack()\n",
    "\n",
    "# Function to update the timer\n",
    "def update_timer(start_time):\n",
    "    if not stop_processing.is_set():\n",
    "        elapsed_time = int(time.time() - start_time)\n",
    "        timer_label.config(text=f\"Elapsed Time: {elapsed_time}s\")\n",
    "        timer_label.after(1000, update_timer, start_time)\n",
    "\n",
    "# Function to start processing and the timer\n",
    "def start_processing():\n",
    "    start_time = time.time()\n",
    "    update_timer(start_time)\n",
    "    threading.Thread(target=run_process, args=(selected_video_path,)).start()\n"
   ]
  },
  {
   "cell_type": "code",
   "execution_count": null,
   "id": "be857ad0-3809-4d4b-9dc2-24f2be5cdc36",
   "metadata": {},
   "outputs": [],
   "source": [
    "import tkinter as tk\n",
    "from tkinter import filedialog, scrolledtext\n",
    "import os\n",
    "import sys\n",
    "import threading\n",
    "import time\n",
    "\n",
    "root = tk.Tk()\n",
    "root.title(\"Video Processing App\")\n",
    "\n",
    "frame = tk.Frame(root, padx=10, pady=10)\n",
    "frame.pack(padx=10, pady=10)\n",
    "\n",
    "select_button = tk.Button(frame, text=\"Select Video\", command=select_video)\n",
    "select_button.pack()\n",
    "\n",
    "# Add a Label widget for displaying the selected file name\n",
    "selected_file_label = tk.Label(frame, text=\"\")\n",
    "selected_file_label.pack()\n",
    "\n",
    "# Initialize the Go button but don't pack it yet\n",
    "go_button = tk.Button(frame, text=\"Go!\", command=start_processing)\n",
    "\n",
    "# Add a Stop button to stop the process, positioned below the log box\n",
    "stop_button = tk.Button(root, text=\"Stop\", command=lambda: stop_processing.set())\n",
    "\n",
    "# Add a Label widget for displaying the elapsed time\n",
    "timer_label = tk.Label(root, text=\"Elapsed Time: 0s\")\n",
    "timer_label.pack(side=tk.BOTTOM, anchor=tk.SE, padx=10, pady=10)\n",
    "\n",
    "# Add a Text widget for displaying logs\n",
    "log_text = scrolledtext.ScrolledText(root, wrap=tk.WORD, state='disabled', width=80, height=20)\n",
    "log_text.pack(padx=10, pady=10)\n",
    "\n",
    "# Add a checkbox to open the video after finishing\n",
    "open_video_var = tk.BooleanVar(value=True)\n",
    "open_video_checkbox = tk.Checkbutton(root, text=\"Open video after finishing\", variable=open_video_var)\n",
    "open_video_checkbox.pack(pady=10)\n",
    "\n",
    "# Redirect stdout to the text box\n",
    "sys.stdout = TextRedirector(log_text)\n",
    "\n",
    "stop_button.pack(pady=10)\n",
    "\n",
    "root.mainloop()"
   ]
  }
 ],
 "metadata": {
  "kernelspec": {
   "display_name": "Python 3 (ipykernel)",
   "language": "python",
   "name": "python3"
  },
  "language_info": {
   "codemirror_mode": {
    "name": "ipython",
    "version": 3
   },
   "file_extension": ".py",
   "mimetype": "text/x-python",
   "name": "python",
   "nbconvert_exporter": "python",
   "pygments_lexer": "ipython3",
   "version": "3.12.3"
  }
 },
 "nbformat": 4,
 "nbformat_minor": 5
}
